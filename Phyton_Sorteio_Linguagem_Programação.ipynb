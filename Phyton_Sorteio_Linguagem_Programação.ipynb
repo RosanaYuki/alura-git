{
  "nbformat": 4,
  "nbformat_minor": 0,
  "metadata": {
    "colab": {
      "provenance": [],
      "authorship_tag": "ABX9TyNI5CJTeg2a2ADB9S/mdRni",
      "include_colab_link": true
    },
    "kernelspec": {
      "name": "python3",
      "display_name": "Python 3"
    },
    "language_info": {
      "name": "python"
    }
  },
  "cells": [
    {
      "cell_type": "markdown",
      "metadata": {
        "id": "view-in-github",
        "colab_type": "text"
      },
      "source": [
        "<a href=\"https://colab.research.google.com/github/RosanaYuki/alura-git/blob/main/Phyton_Sorteio_Linguagem_Programa%C3%A7%C3%A3o.ipynb\" target=\"_parent\"><img src=\"https://colab.research.google.com/assets/colab-badge.svg\" alt=\"Open In Colab\"/></a>"
      ]
    },
    {
      "cell_type": "code",
      "execution_count": 14,
      "metadata": {
        "colab": {
          "base_uri": "https://localhost:8080/"
        },
        "id": "WXEDjVBzHlgV",
        "outputId": "e7b01bb1-c28b-4461-88fd-adf38ed3fd64"
      },
      "outputs": [
        {
          "output_type": "execute_result",
          "data": {
            "text/plain": [
              "{'palavra': 'python',\n",
              " 'dica': 'automatizar tarefas e desenvolver aplicações web.'}"
            ]
          },
          "metadata": {},
          "execution_count": 14
        }
      ],
      "source": [
        "#bibliotecas\n",
        "import requests\n",
        "import random\n",
        "#url com dados em formato de lista (linguagem de programação e descrição)\n",
        "url = 'https://raw.githubusercontent.com/guilhermeonrails/api-imersao-ia/main/words.json'\n",
        "resposta=requests.get(url)\n",
        "dados = resposta.json()\n",
        "len(dados)\n"
      ]
    },
    {
      "cell_type": "code",
      "source": [
        "type(dados)"
      ],
      "metadata": {
        "colab": {
          "base_uri": "https://localhost:8080/"
        },
        "id": "c4WkkxX5NQO8",
        "outputId": "bb1ea3ce-7508-4519-8468-d5dfe13d511d"
      },
      "execution_count": 16,
      "outputs": [
        {
          "output_type": "execute_result",
          "data": {
            "text/plain": [
              "list"
            ]
          },
          "metadata": {},
          "execution_count": 16
        }
      ]
    },
    {
      "cell_type": "code",
      "source": [
        "#pega a 1a linha\n",
        "dados[0]"
      ],
      "metadata": {
        "colab": {
          "base_uri": "https://localhost:8080/"
        },
        "id": "QZAVXxWrNCQm",
        "outputId": "4a8d91b6-a489-4e9f-df20-d8b1fa84f5b7"
      },
      "execution_count": 15,
      "outputs": [
        {
          "output_type": "execute_result",
          "data": {
            "text/plain": [
              "{'palavra': 'python',\n",
              " 'dica': 'automatizar tarefas e desenvolver aplicações web.'}"
            ]
          },
          "metadata": {},
          "execution_count": 15
        }
      ]
    },
    {
      "cell_type": "code",
      "source": [
        "#pega a última linha\n",
        "dados[-1]"
      ],
      "metadata": {
        "colab": {
          "base_uri": "https://localhost:8080/"
        },
        "id": "CZtw7P9PNl8H",
        "outputId": "6ddb4502-42dc-4b46-b070-970e78967cdc"
      },
      "execution_count": 17,
      "outputs": [
        {
          "output_type": "execute_result",
          "data": {
            "text/plain": [
              "{'palavra': 'oauth',\n",
              " 'dica': 'implementar autenticação e autorização em aplicativos.'}"
            ]
          },
          "metadata": {},
          "execution_count": 17
        }
      ]
    },
    {
      "cell_type": "code",
      "source": [
        "#escolhe um item da lista aleatoriamente\n",
        "valor_secreto = random.choice(dados)\n",
        "palavra_secreta = valor_secreto['palavra']\n",
        "dica = valor_secreto['dica']\n",
        "#Concatenação f\n",
        "print(f'A palavra secreta tem {len(palavra_secreta)} letras. Dica: {dica}')\n"
      ],
      "metadata": {
        "colab": {
          "base_uri": "https://localhost:8080/"
        },
        "id": "M9nsIphdN8s7",
        "outputId": "d07333de-0166-4b93-b573-b446b0485da9"
      },
      "execution_count": 54,
      "outputs": [
        {
          "output_type": "stream",
          "name": "stdout",
          "text": [
            "A palavra secreta tem 3 letras. Dica: integrar e comunicar sistemas e serviços de software.\n"
          ]
        }
      ]
    },
    {
      "cell_type": "code",
      "source": [
        "#receber o chute ou palpite da tecnologia\n",
        "palpite=input()"
      ],
      "metadata": {
        "colab": {
          "base_uri": "https://localhost:8080/"
        },
        "id": "EA0bikpkVwfv",
        "outputId": "ff236b92-8e9f-44e8-ad8e-9ac44892ccd8"
      },
      "execution_count": 55,
      "outputs": [
        {
          "name": "stdout",
          "output_type": "stream",
          "text": [
            "php\n"
          ]
        }
      ]
    },
    {
      "cell_type": "code",
      "source": [
        "if palpite==palavra_secreta:\n",
        "   print('Acertou!!!')\n",
        "else:\n",
        "     print(f'Errou!!! A palavra secreta era: {palavra_secreta}')\n"
      ],
      "metadata": {
        "colab": {
          "base_uri": "https://localhost:8080/"
        },
        "id": "ivtbw3nrWMUX",
        "outputId": "b5a381e3-2dbe-41d7-aded-f611aaae5509"
      },
      "execution_count": 57,
      "outputs": [
        {
          "output_type": "stream",
          "name": "stdout",
          "text": [
            "Errou!!! A palavra secreta era: api\n"
          ]
        }
      ]
    },
    {
      "cell_type": "code",
      "source": [
        "palavra_secreta"
      ],
      "metadata": {
        "colab": {
          "base_uri": "https://localhost:8080/",
          "height": 35
        },
        "id": "f-TE_eHGTMvl",
        "outputId": "e39c38e7-4900-446d-fd81-006024a85b60"
      },
      "execution_count": 35,
      "outputs": [
        {
          "output_type": "execute_result",
          "data": {
            "text/plain": [
              "'c++'"
            ],
            "application/vnd.google.colaboratory.intrinsic+json": {
              "type": "string"
            }
          },
          "metadata": {},
          "execution_count": 35
        }
      ]
    }
  ]
}